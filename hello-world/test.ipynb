{
 "cells": [
  {
   "cell_type": "code",
   "execution_count": 32,
   "id": "c057a34a-03b2-4a6c-8851-4be88fe5b210",
   "metadata": {},
   "outputs": [],
   "source": [
    "import math\n",
    "import random\n",
    "import re #import the library for regular expressions"
   ]
  },
  {
   "cell_type": "code",
   "execution_count": 7,
   "id": "abd8c6b7-07a1-4537-9a31-db9afe1d7529",
   "metadata": {},
   "outputs": [
    {
     "data": {
      "text/plain": [
       "4.0"
      ]
     },
     "execution_count": 7,
     "metadata": {},
     "output_type": "execute_result"
    }
   ],
   "source": [
    "def sqrt_for_all(x):\n",
    "    if x < 0:\n",
    "        return math.sqrt(abs(x))\n",
    "    else:\n",
    "        return math.sqrt(x)\n",
    "\n",
    "sqrt_for_all(-16.0)"
   ]
  },
  {
   "cell_type": "code",
   "execution_count": 14,
   "id": "2e64336b-b526-48c3-bfd6-4b524ed6201e",
   "metadata": {},
   "outputs": [
    {
     "name": "stdin",
     "output_type": "stream",
     "text": [
      "Please, enter a whole number: \"8,6\"\n"
     ]
    },
    {
     "name": "stdout",
     "output_type": "stream",
     "text": [
      "please enter a whole number\n",
      "the script could still runing\n"
     ]
    }
   ],
   "source": [
    "def log_square(x):\n",
    "    if x == 0 or x == \"0\":\n",
    "        raise ValueError(\"zero is no positive number entered, please enter a valid number\")\n",
    "\n",
    "    elif type(x) == int and x > 0:\n",
    "        return math.log(x)\n",
    "    elif type(x) == int and x < 0:\n",
    "        return math.log(abs(x))\n",
    "\n",
    "    elif type(x) == float and x > 0:\n",
    "        return math.log(x)\n",
    "    elif type(x) == float and x < 0:\n",
    "        return math.log(abs(x))\n",
    "\n",
    "    elif type(x) == str and \".\" in x and float(x)> 0:\n",
    "        return math.log(float(x))\n",
    "    elif type(x) == str and \".\" in x and \"-\" in x:\n",
    "        x = x.replace(\"-\",\"\")\n",
    "        return math.log(float(x))\n",
    "\n",
    "    elif type(x) == str and \",\" in x and float(x)> 0:\n",
    "        return math.log(float(x))\n",
    "    elif type(x) == str and \",\" in x and \"-\" in x:\n",
    "        x = x.replace(\"-\",\"\")\n",
    "        return math.log(float(x))\n",
    "\n",
    "    elif type(x) == str and x.isdigit() and int(x) > 0:\n",
    "        return math.log(int(x))\n",
    "    elif type(x) == str and \"-\" in x:\n",
    "        return math.log(abs(int(x)))\n",
    "\n",
    "    else:\n",
    "        raise ValueError(\"no positive number entered, please enter a valid number\")\n",
    "\n",
    "\n",
    "    # Your code here:\n",
    "x = input(\"Please, enter a whole number:\")\n",
    "try:\n",
    "    log_square(x)\n",
    "except:\n",
    "    print(\"please enter a whole number\")\n",
    "else:\n",
    "    print(\"thank you, this is the square of your number\",log_square(x))\n",
    "finally:\n",
    "    print(\"the script could still runing\")"
   ]
  },
  {
   "cell_type": "code",
   "execution_count": 26,
   "id": "ff3d573f-34a3-4199-a756-3ff1c4a6a73d",
   "metadata": {},
   "outputs": [
    {
     "data": {
      "text/plain": [
       "True"
      ]
     },
     "execution_count": 26,
     "metadata": {},
     "output_type": "execute_result"
    }
   ],
   "source": [
    "import re\n",
    "def check_capital(x):\n",
    "    \"\"\"\n",
    "    This function returns true if the string contains\n",
    "    at least one capital letter and throws an error otherwise.\n",
    "\n",
    "    Input: String\n",
    "    Output: Bool or error message\n",
    "\n",
    "    Sample Input: 'John'\n",
    "    Sample Output: True\n",
    "    \"\"\"\n",
    "    findall_var = re.findall(\"[A-Z].*\",x)\n",
    "    if findall_var !=[]:\n",
    "        return True\n",
    "    else:\n",
    "        raise ValueError(\"the name is not well written\")\n",
    "    # Your code here:\n",
    "\n",
    "x = \"jhon, Jhon\"\n",
    "check_capital(x)"
   ]
  },
  {
   "cell_type": "code",
   "execution_count": 31,
   "id": "15d192e9-6457-4565-9a4d-49bbf063321b",
   "metadata": {},
   "outputs": [
    {
     "data": {
      "text/plain": [
       "[1, 86, 17, 35, 41, 97, 73, 52, 77, 63]"
      ]
     },
     "execution_count": 31,
     "metadata": {},
     "output_type": "execute_result"
    }
   ],
   "source": [
    "a = [random.randint(1,100) for i in range(10)]\n",
    "a"
   ]
  },
  {
   "cell_type": "code",
   "execution_count": 35,
   "id": "9bce6860-89f7-4e62-b55f-269d6e147ec1",
   "metadata": {},
   "outputs": [
    {
     "name": "stdout",
     "output_type": "stream",
     "text": [
      "['123abc', 'abc123', 'JohnSmith1', 'ABBY4', 'JANE', '8']\n"
     ]
    }
   ],
   "source": [
    "data = ['123abc', 'abc123', 'JohnSmith1', 'ABBY4', 'JANE', \"8\"]\n",
    "\n",
    "# Your code here\n",
    "data_string=str(data)\n",
    "print(data_string)"
   ]
  },
  {
   "cell_type": "code",
   "execution_count": 36,
   "id": "59b23235-f184-4c3f-8851-13b8db8a0271",
   "metadata": {},
   "outputs": [
    {
     "name": "stdout",
     "output_type": "stream",
     "text": [
      "['123abc', 'abc123', 'JohnSmith1', 'ABBY4', '8']\n"
     ]
    }
   ],
   "source": [
    "print(re.findall(\"\\w*\\d+\\w*\",data_string))"
   ]
  },
  {
   "cell_type": "code",
   "execution_count": 37,
   "id": "c9615e2d-f164-4212-ab1b-05dbf19837a4",
   "metadata": {},
   "outputs": [
    {
     "data": {
      "text/plain": [
       "['123abc', 'abc123', 'JohnSmith1', 'ABBY4', 'JANE']"
      ]
     },
     "execution_count": 37,
     "metadata": {},
     "output_type": "execute_result"
    }
   ],
   "source": [
    "data_bonus = ['123abc', 'abc123', 'JohnSmith1', 'ABBY4', 'JANE']\n",
    "data_bonus"
   ]
  },
  {
   "cell_type": "code",
   "execution_count": 38,
   "id": "69017728-58d7-4f0a-9cc5-6fb9bc9acfde",
   "metadata": {},
   "outputs": [
    {
     "name": "stdout",
     "output_type": "stream",
     "text": [
      "['123abc', 'abc123', 'JohnSmith1']\n"
     ]
    }
   ],
   "source": [
    "data_bonus_string_findall=str(data_bonus)\n",
    "print(re.findall(\"\\w*[a-z]+\\d+|\\d+[a-z]+\\w*\",data_bonus_string_findall))"
   ]
  },
  {
   "cell_type": "code",
   "execution_count": 39,
   "id": "dfabef85-3045-4bf5-b211-065e0ee4ea7a",
   "metadata": {},
   "outputs": [
    {
     "name": "stdout",
     "output_type": "stream",
     "text": [
      "123abc,abc123,JohnSmith1,\n",
      "['123abc', 'abc123', 'JohnSmith1']\n"
     ]
    }
   ],
   "source": [
    "data_bonus_string=str(data_bonus).replace(\"[\",\"\").replace(\"]\",\"\").replace(\" \",\"\").replace(\"'\",\"\")\n",
    "var_search2 = re.search(\"(\\W*\\w*(([a-z]+\\d+)|(\\d+[a-z]+))+\\w*\\W*)+\",data_bonus_string)\n",
    "print(var_search2.group())\n",
    "if var_search2.group().startswith(\",\") == True and var_search2.group().endswith(\",\") == True:\n",
    "    var_search_list2 = var_search2.group().split(\",\")\n",
    "    print(var_search_list2[1:len(var_search_list2)-1])\n",
    "elif var_search2.group().startswith(\",\") == True and var_search2.group().endswith(\",\") == False:\n",
    "    var_search_list2 = var_search2.group().split(\",\")\n",
    "    print(var_search_list2[1:len(var_search_list2)])\n",
    "elif var_search2.group().startswith(\",\") == False and var_search2.group().endswith(\",\") == True:\n",
    "    var_search_list2 = var_search2.group().split(\",\")\n",
    "    print(var_search_list2[0:len(var_search_list2)-1])\n",
    "elif var_search2.group().startswith(\",\") == False and var_search2.group().endswith(\",\") == False:\n",
    "    var_search_list2 = var_search2.group().split(\",\")\n",
    "    print(var_search_list2[:])\n",
    "else:\n",
    "    print(\"error\")"
   ]
  },
  {
   "cell_type": "code",
   "execution_count": null,
   "id": "5d2c32b1-d1b0-43d1-997d-8a9cff6499c6",
   "metadata": {},
   "outputs": [],
   "source": []
  }
 ],
 "metadata": {
  "kernelspec": {
   "display_name": "git",
   "language": "python",
   "name": "git"
  },
  "language_info": {
   "codemirror_mode": {
    "name": "ipython",
    "version": 3
   },
   "file_extension": ".py",
   "mimetype": "text/x-python",
   "name": "python",
   "nbconvert_exporter": "python",
   "pygments_lexer": "ipython3",
   "version": "3.11.5"
  }
 },
 "nbformat": 4,
 "nbformat_minor": 5
}
